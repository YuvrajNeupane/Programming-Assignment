{
 "cells": [
  {
   "cell_type": "markdown",
   "id": "79c81ebc",
   "metadata": {},
   "source": [
    "#### Q1. Write a Python program to convert kilometers to miles?"
   ]
  },
  {
   "cell_type": "code",
   "execution_count": 17,
   "id": "358d0a81",
   "metadata": {},
   "outputs": [
    {
     "name": "stdout",
     "output_type": "stream",
     "text": [
      "Enter the value convert to miles: 2\n",
      "mile: 1.242742\n"
     ]
    }
   ],
   "source": [
    "# Taking input from user:\n",
    "user = float(input('Enter the value convert to miles: '))\n",
    "\n",
    "# 1 KM = 0.621371 mile, so that\n",
    "\n",
    "mile = user * 0.621371\n",
    "print('mile:',mile)"
   ]
  },
  {
   "cell_type": "markdown",
   "id": "9a3fb5c1",
   "metadata": {},
   "source": [
    "#### Q2. Write a Python program to convert Celsius to Fahrenheit?"
   ]
  },
  {
   "cell_type": "code",
   "execution_count": 15,
   "id": "983ef3d7",
   "metadata": {},
   "outputs": [
    {
     "name": "stdout",
     "output_type": "stream",
     "text": [
      "Celsius value: 2\n",
      "Fahrenheit value : 67.6\n"
     ]
    }
   ],
   "source": [
    "# Taking an input form user:\n",
    "user = float(input('Celsius value: '))\n",
    "\n",
    "# 1 celsius = 33.8\n",
    "Fahrenheit = user * 33.8\n",
    "\n",
    "# Taking output:\n",
    "print('Fahrenheit value :',Fahrenheit)"
   ]
  },
  {
   "cell_type": "markdown",
   "id": "cce58855",
   "metadata": {},
   "source": [
    "#### Q3. Write a Python program to display calendar?"
   ]
  },
  {
   "cell_type": "code",
   "execution_count": 19,
   "id": "33507f45",
   "metadata": {},
   "outputs": [
    {
     "name": "stdout",
     "output_type": "stream",
     "text": [
      "Enter year: 2023\n",
      "Enter month: 1\n",
      "    January 2023\n",
      "Mo Tu We Th Fr Sa Su\n",
      "                   1\n",
      " 2  3  4  5  6  7  8\n",
      " 9 10 11 12 13 14 15\n",
      "16 17 18 19 20 21 22\n",
      "23 24 25 26 27 28 29\n",
      "30 31\n",
      "\n"
     ]
    }
   ],
   "source": [
    "import calendar\n",
    "yy = int(input(\"Enter year: \"))\n",
    "mm = int(input(\"Enter month: \"))\n",
    "print(calendar.month(yy, mm))"
   ]
  },
  {
   "cell_type": "markdown",
   "id": "bab4ab13",
   "metadata": {},
   "source": [
    "#### Q4. Write a Python program to solve quadratic equation?"
   ]
  },
  {
   "cell_type": "code",
   "execution_count": 20,
   "id": "ebfa5b26",
   "metadata": {},
   "outputs": [
    {
     "name": "stdout",
     "output_type": "stream",
     "text": [
      "The solution are (-4+0j) and (-1+0j)\n"
     ]
    }
   ],
   "source": [
    "import cmath\n",
    "def quad_eqn(a,b,c):\n",
    "\n",
    "    d = (b**2) - (4*a*c)\n",
    "\n",
    "    sol1 = (-b-cmath.sqrt(d))/(2*a)\n",
    "    sol2 = (-b+cmath.sqrt(d))/(2*a)\n",
    "\n",
    "    print('The solution are {0} and {1}'.format(sol1,sol2))\n",
    "quad_eqn(1,5,4)"
   ]
  },
  {
   "cell_type": "markdown",
   "id": "2a212640",
   "metadata": {},
   "source": [
    "#### Q5. Write a Python program to swap two variables without temp variable?"
   ]
  },
  {
   "cell_type": "code",
   "execution_count": 21,
   "id": "ab0f8d6d",
   "metadata": {},
   "outputs": [
    {
     "name": "stdout",
     "output_type": "stream",
     "text": [
      "Before swapping values of a and b are: 3 and 4\n",
      "After swapping values of a and b are: 4 and 3\n"
     ]
    }
   ],
   "source": [
    "def swap(a,b):\n",
    "    print(f\"Before swapping values of a and b are: {a} and {b}\")\n",
    "    a,b = b,a\n",
    "    print(f\"After swapping values of a and b are: {a} and {b}\")\n",
    "\n",
    "swap(3,4)"
   ]
  },
  {
   "cell_type": "markdown",
   "id": "807dc4cb",
   "metadata": {},
   "source": [
    "# Thank you!"
   ]
  }
 ],
 "metadata": {
  "kernelspec": {
   "display_name": "Python 3 (ipykernel)",
   "language": "python",
   "name": "python3"
  },
  "language_info": {
   "codemirror_mode": {
    "name": "ipython",
    "version": 3
   },
   "file_extension": ".py",
   "mimetype": "text/x-python",
   "name": "python",
   "nbconvert_exporter": "python",
   "pygments_lexer": "ipython3",
   "version": "3.9.13"
  }
 },
 "nbformat": 4,
 "nbformat_minor": 5
}
