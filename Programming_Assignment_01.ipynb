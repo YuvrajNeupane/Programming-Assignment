{
 "cells": [
  {
   "cell_type": "markdown",
   "id": "7f55c99d",
   "metadata": {},
   "source": [
    "#### Q1. Write a Python program to print \"Hello Python\"?"
   ]
  },
  {
   "cell_type": "code",
   "execution_count": 1,
   "id": "10e26053",
   "metadata": {},
   "outputs": [
    {
     "name": "stdout",
     "output_type": "stream",
     "text": [
      "Hello Python\n"
     ]
    }
   ],
   "source": [
    "print('Hello Python')"
   ]
  },
  {
   "cell_type": "markdown",
   "id": "2d436ad5",
   "metadata": {},
   "source": [
    "#### Q2. Write a Python program to do arithmetical operations addition and division.?"
   ]
  },
  {
   "cell_type": "code",
   "execution_count": 3,
   "id": "34e6252f",
   "metadata": {},
   "outputs": [
    {
     "name": "stdout",
     "output_type": "stream",
     "text": [
      "0.4\n",
      "7\n"
     ]
    }
   ],
   "source": [
    "a = 2\n",
    "b = 5\n",
    "sum_ = a+b\n",
    "div_ = a/b\n",
    "\n",
    "print(div_)\n",
    "print(sum_)"
   ]
  },
  {
   "cell_type": "markdown",
   "id": "270fce7d",
   "metadata": {},
   "source": [
    "#### Q3. Write a Python program to find the area of a triangle?"
   ]
  },
  {
   "cell_type": "code",
   "execution_count": 11,
   "id": "3a63b389",
   "metadata": {},
   "outputs": [
    {
     "name": "stdout",
     "output_type": "stream",
     "text": [
      " Area of a triangle:  35.0\n"
     ]
    }
   ],
   "source": [
    "# area of triangle (lxb/2)\n",
    "base = 3.5\n",
    "height = 20\n",
    "\n",
    "area = (base*height)/2\n",
    "print(' Area of a triangle: ',area)"
   ]
  },
  {
   "cell_type": "markdown",
   "id": "9703d079",
   "metadata": {},
   "source": [
    "#### Q4. Write a Python program to swap two variables?"
   ]
  },
  {
   "cell_type": "code",
   "execution_count": 16,
   "id": "4b727830",
   "metadata": {},
   "outputs": [
    {
     "name": "stdout",
     "output_type": "stream",
     "text": [
      "one:  4\n",
      "second:  2\n"
     ]
    }
   ],
   "source": [
    "one = 2\n",
    "second = 4\n",
    "\n",
    "third = one\n",
    "one = second\n",
    "second = third\n",
    "\n",
    "print('one: ',one)\n",
    "print('second: ', second)"
   ]
  },
  {
   "cell_type": "markdown",
   "id": "0a553908",
   "metadata": {},
   "source": [
    "#### Q5. Write a Python program to generate a random number?"
   ]
  },
  {
   "cell_type": "code",
   "execution_count": 17,
   "id": "dc109c3b",
   "metadata": {},
   "outputs": [
    {
     "name": "stdout",
     "output_type": "stream",
     "text": [
      "6\n"
     ]
    }
   ],
   "source": [
    "import random\n",
    "print(random.randint(0,9))"
   ]
  },
  {
   "cell_type": "markdown",
   "id": "bb847e13",
   "metadata": {},
   "source": [
    "# Thank you!"
   ]
  }
 ],
 "metadata": {
  "kernelspec": {
   "display_name": "Python 3 (ipykernel)",
   "language": "python",
   "name": "python3"
  },
  "language_info": {
   "codemirror_mode": {
    "name": "ipython",
    "version": 3
   },
   "file_extension": ".py",
   "mimetype": "text/x-python",
   "name": "python",
   "nbconvert_exporter": "python",
   "pygments_lexer": "ipython3",
   "version": "3.9.13"
  }
 },
 "nbformat": 4,
 "nbformat_minor": 5
}
